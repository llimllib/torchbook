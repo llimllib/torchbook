{
 "cells": [
  {
   "cell_type": "code",
   "execution_count": 9,
   "id": "7755a87e-c4de-4101-9e21-f764ca5ee128",
   "metadata": {},
   "outputs": [],
   "source": [
    "from glob import glob\n",
    "\n",
    "import torch\n",
    "import imageio"
   ]
  },
  {
   "cell_type": "code",
   "execution_count": 5,
   "id": "404f5545-cb25-4df4-8206-f16052c22edf",
   "metadata": {},
   "outputs": [
    {
     "name": "stderr",
     "output_type": "stream",
     "text": [
      "/var/folders/cj/3fpctnd52vv37y9gpdgg7c200000gn/T/ipykernel_46892/1994149648.py:1: DeprecationWarning: Starting with ImageIO v3 the behavior of this function will switch to that of iio.v3.imread. To keep the current behavior (and make this warning dissapear) use `import imageio.v2 as imageio` or call `imageio.v2.imread` directly.\n",
      "  img_arr = imageio.imread(\"beckett.png\")\n"
     ]
    },
    {
     "data": {
      "text/plain": [
       "(1324, 1762, 4)"
      ]
     },
     "execution_count": 5,
     "metadata": {},
     "output_type": "execute_result"
    }
   ],
   "source": [
    "img_arr = imageio.imread(\"beckett.png\")\n",
    "img_arr.shape"
   ]
  },
  {
   "cell_type": "markdown",
   "id": "60e45bdd-c8f0-42ec-9f2d-822512c37b67",
   "metadata": {},
   "source": [
    "that deprecation warning is annoying, how abaout we try using imageio v3?"
   ]
  },
  {
   "cell_type": "code",
   "execution_count": 6,
   "id": "d0572535-66cc-4c31-97da-2b85feed8fed",
   "metadata": {},
   "outputs": [
    {
     "data": {
      "text/plain": [
       "(1324, 1762, 4)"
      ]
     },
     "execution_count": 6,
     "metadata": {},
     "output_type": "execute_result"
    }
   ],
   "source": [
    "import imageio.v3 as iio # just copying from their readme\n",
    "\n",
    "img_arr = iio.imread(\"beckett.png\")\n",
    "img_arr.shape"
   ]
  },
  {
   "cell_type": "markdown",
   "id": "cf4ba0e6-0a69-41e2-987a-5db6550981f9",
   "metadata": {},
   "source": [
    "By default, iio returns (H, W, C) but for our purposes, we want (C, H, W). `permute` to the rescue! We rotate the channels to the first position."
   ]
  },
  {
   "cell_type": "code",
   "execution_count": 7,
   "id": "059b46a4-18b6-4161-b00e-fa09ace611ea",
   "metadata": {},
   "outputs": [],
   "source": [
    "img = torch.from_numpy(img_arr)\n",
    "out = img.permute(2, 0, 1)"
   ]
  },
  {
   "cell_type": "markdown",
   "id": "ce1959a9-3720-4893-a543-22e84160fb71",
   "metadata": {},
   "source": [
    "As mentioned before, this doesn't change the storage layout - so changing `img_arr` would change `img`.\n",
    "\n",
    "On the upside, it's super cheap.\n",
    "\n",
    "We're going to want to group images into batches of size _N_ to use as input to our NNs\n",
    "\n",
    "To be a bit efficient, we can pre-allocate a batch:"
   ]
  },
  {
   "cell_type": "code",
   "execution_count": 8,
   "id": "d51544b0-1dbe-4144-9476-e5db1b9d3a5a",
   "metadata": {},
   "outputs": [],
   "source": [
    "N = 3\n",
    "batch = torch.zeros(N, 3, 256, 256, dtype=torch.uint8)"
   ]
  },
  {
   "cell_type": "code",
   "execution_count": 13,
   "id": "650f96e8-39f0-453b-b337-8f342bdd3d50",
   "metadata": {},
   "outputs": [],
   "source": [
    "# cat image dir copied from https://github.com/deep-learning-with-pytorch/dlwpt-code/\n",
    "imdir = \"cat-images\"\n",
    "files = glob(f\"{imdir}/*.png\")\n",
    "for i, f in enumerate(files):\n",
    "    # [:3] chops the alpha channel if it exists\n",
    "    img = torch.from_numpy(iio.imread(f)).permute(2, 0, 1)[:3]\n",
    "    batch[i] = img"
   ]
  },
  {
   "cell_type": "code",
   "execution_count": null,
   "id": "35ec3cae-6da5-4b5e-bcbb-b17e17992da3",
   "metadata": {},
   "outputs": [],
   "source": []
  }
 ],
 "metadata": {
  "kernelspec": {
   "display_name": "Python 3 (ipykernel)",
   "language": "python",
   "name": "python3"
  },
  "language_info": {
   "codemirror_mode": {
    "name": "ipython",
    "version": 3
   },
   "file_extension": ".py",
   "mimetype": "text/x-python",
   "name": "python",
   "nbconvert_exporter": "python",
   "pygments_lexer": "ipython3",
   "version": "3.10.0"
  }
 },
 "nbformat": 4,
 "nbformat_minor": 5
}
