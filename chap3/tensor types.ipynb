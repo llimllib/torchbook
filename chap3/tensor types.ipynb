{
 "cells": [
  {
   "cell_type": "code",
   "execution_count": 1,
   "id": "6609ed18-6bfc-441f-b113-f842e01c9302",
   "metadata": {},
   "outputs": [],
   "source": [
    "import torch"
   ]
  },
  {
   "cell_type": "markdown",
   "id": "6f2b4544-c549-44f0-b508-b69906dfefac",
   "metadata": {},
   "source": [
    "Tensor datatype documentation is [located here](https://pytorch.org/docs/stable/tensors.html#data-types)"
   ]
  },
  {
   "cell_type": "code",
   "execution_count": 4,
   "id": "b684f071-e9c7-4b37-bf5d-cc77843bc66b",
   "metadata": {},
   "outputs": [
    {
     "data": {
      "text/plain": [
       "(torch.float64, torch.int16)"
      ]
     },
     "execution_count": 4,
     "metadata": {},
     "output_type": "execute_result"
    }
   ],
   "source": [
    "double = torch.ones(10, 2, dtype=torch.float64) # double == float64\n",
    "short = torch.tensor([[1,2], [3,4]], dtype=torch.int16) # short == int16\n",
    "double.dtype, short.dtype"
   ]
  },
  {
   "cell_type": "markdown",
   "id": "9bb64d3a-d16e-4429-a126-3a8ee5754236",
   "metadata": {},
   "source": [
    "We can also cast a tensor with casting methods"
   ]
  },
  {
   "cell_type": "code",
   "execution_count": 5,
   "id": "36df163d-ae03-4962-b906-f4ecf1724e5e",
   "metadata": {},
   "outputs": [
    {
     "data": {
      "text/plain": [
       "(torch.float64, torch.int16)"
      ]
     },
     "execution_count": 5,
     "metadata": {},
     "output_type": "execute_result"
    }
   ],
   "source": [
    "double = torch.zeros(10, 2).double()\n",
    "short = torch.ones(10, 2).short()\n",
    "double.dtype, short.dtype"
   ]
  },
  {
   "cell_type": "markdown",
   "id": "ad51fe31-1ca7-4822-9817-5b4dc41e75ba",
   "metadata": {},
   "source": [
    "or the `to` method"
   ]
  },
  {
   "cell_type": "code",
   "execution_count": 6,
   "id": "6490c09b-6cb9-4b60-b8ac-af2df946238d",
   "metadata": {},
   "outputs": [
    {
     "data": {
      "text/plain": [
       "(torch.float64, torch.int16)"
      ]
     },
     "execution_count": 6,
     "metadata": {},
     "output_type": "execute_result"
    }
   ],
   "source": [
    "double = torch.zeros(10, 2).to(torch.double)\n",
    "short = torch.ones(10, 2).to(torch.int16)\n",
    "double.dtype, short.dtype"
   ]
  },
  {
   "cell_type": "markdown",
   "id": "9348ebbf-e49a-42b9-ba94-340117ff20e0",
   "metadata": {},
   "source": [
    "If we mix data types, torch will attempt to cast the operands to the largest data type"
   ]
  },
  {
   "cell_type": "code",
   "execution_count": 11,
   "id": "9f305103-89f7-49d0-b087-4d205537b559",
   "metadata": {},
   "outputs": [
    {
     "data": {
      "text/plain": [
       "tensor([0., 0., 0., 0., 0.], dtype=torch.float64)"
      ]
     },
     "execution_count": 11,
     "metadata": {},
     "output_type": "execute_result"
    }
   ],
   "source": [
    "double = torch.rand(5, dtype=torch.double)\n",
    "# this yields all zeros because casting our 0 < n < 1 doubles to int16 turns them all into zeroes\n",
    "double * double.to(torch.short)"
   ]
  },
  {
   "cell_type": "code",
   "execution_count": null,
   "id": "b1895ffd-809f-42ce-b6bd-d225495de6ad",
   "metadata": {},
   "outputs": [],
   "source": []
  }
 ],
 "metadata": {
  "kernelspec": {
   "display_name": "Python 3 (ipykernel)",
   "language": "python",
   "name": "python3"
  },
  "language_info": {
   "codemirror_mode": {
    "name": "ipython",
    "version": 3
   },
   "file_extension": ".py",
   "mimetype": "text/x-python",
   "name": "python",
   "nbconvert_exporter": "python",
   "pygments_lexer": "ipython3",
   "version": "3.10.0"
  }
 },
 "nbformat": 4,
 "nbformat_minor": 5
}
