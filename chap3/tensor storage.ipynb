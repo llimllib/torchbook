{
 "cells": [
  {
   "cell_type": "code",
   "execution_count": 1,
   "id": "7ccb9ae2-7566-498f-8f06-4a9a2d7c3d39",
   "metadata": {},
   "outputs": [],
   "source": [
    "import torch"
   ]
  },
  {
   "cell_type": "code",
   "execution_count": 6,
   "id": "8b35f113-3584-473a-96a3-e28f1a6e7885",
   "metadata": {},
   "outputs": [
    {
     "data": {
      "text/plain": [
       "(tensor([[4., 1.],\n",
       "         [5., 3.],\n",
       "         [2., 1.]]),\n",
       "  4.0\n",
       "  1.0\n",
       "  5.0\n",
       "  3.0\n",
       "  2.0\n",
       "  1.0\n",
       " [torch.storage.TypedStorage(dtype=torch.float32, device=cpu) of size 6])"
      ]
     },
     "execution_count": 6,
     "metadata": {},
     "output_type": "execute_result"
    }
   ],
   "source": [
    "points = torch.tensor([[4, 1], [5,3], [2,1.0]])\n",
    "points, points.storage()"
   ]
  },
  {
   "cell_type": "markdown",
   "id": "3f7bcc5b-5887-403a-bcf2-42e80267decf",
   "metadata": {},
   "source": [
    "points will report that its size is (3,2), but the storage is just a contiguous array.\n",
    "\n",
    "We can index into a storage:"
   ]
  },
  {
   "cell_type": "code",
   "execution_count": 7,
   "id": "5c585dbf-c2a1-470e-9c01-8d09cbba18f2",
   "metadata": {},
   "outputs": [
    {
     "data": {
      "text/plain": [
       "4.0"
      ]
     },
     "execution_count": 7,
     "metadata": {},
     "output_type": "execute_result"
    }
   ],
   "source": [
    "points.storage()[0]"
   ]
  },
  {
   "cell_type": "markdown",
   "id": "b9516759-d844-4369-8a2a-8d6ad0aaa718",
   "metadata": {},
   "source": [
    "and modifying the storage unsurprisingly modifies the tensor's view of it"
   ]
  },
  {
   "cell_type": "code",
   "execution_count": 9,
   "id": "f27623d2-608a-4fb2-8698-85e0a3d80f0b",
   "metadata": {},
   "outputs": [
    {
     "data": {
      "text/plain": [
       "tensor([[-99.,   1.],\n",
       "        [  5.,   3.],\n",
       "        [  2.,   1.]])"
      ]
     },
     "execution_count": 9,
     "metadata": {},
     "output_type": "execute_result"
    }
   ],
   "source": [
    "points.storage()[0] = -99.0\n",
    "points"
   ]
  },
  {
   "cell_type": "markdown",
   "id": "baecb8ed-b105-45b2-b13f-c8c4d4ecdd4c",
   "metadata": {},
   "source": [
    "as we've seen before, methods which end in underscore modify the underlying storage; all others return a copy"
   ]
  },
  {
   "cell_type": "code",
   "execution_count": 10,
   "id": "3650137b-dd0e-4d07-8b46-c0fa9bf109e6",
   "metadata": {},
   "outputs": [
    {
     "data": {
      "text/plain": [
       "tensor([[0., 0.],\n",
       "        [0., 0.],\n",
       "        [0., 0.]])"
      ]
     },
     "execution_count": 10,
     "metadata": {},
     "output_type": "execute_result"
    }
   ],
   "source": [
    "points.zero_()\n",
    "points"
   ]
  },
  {
   "cell_type": "markdown",
   "id": "262769f9-c445-46f6-9606-2c1643d99404",
   "metadata": {},
   "source": [
    "## Tensor Metadata\n",
    "\n",
    "tensors are defined by three pieces of data:\n",
    "- **size** is a tuple indicating how many elements across each dimension the tensor represents\n",
    "- **offset** is the index in the storage corresponding to the first element in the tensor\n",
    "- **stride** is the number of elements in the storage that need to be skipped over to obtain the next element along each dimension"
   ]
  },
  {
   "cell_type": "code",
   "execution_count": 11,
   "id": "985ebbdf-2fb7-4e25-8a7a-9df03d3a2e95",
   "metadata": {},
   "outputs": [
    {
     "data": {
      "text/plain": [
       "(2, torch.Size([2]))"
      ]
     },
     "execution_count": 11,
     "metadata": {},
     "output_type": "execute_result"
    }
   ],
   "source": [
    "points[1].storage_offset(), points[1].size()"
   ]
  },
  {
   "cell_type": "code",
   "execution_count": null,
   "id": "cc0aea37-75d8-4fd7-8ec5-9072c703b7b0",
   "metadata": {},
   "outputs": [],
   "source": []
  }
 ],
 "metadata": {
  "kernelspec": {
   "display_name": "Python 3 (ipykernel)",
   "language": "python",
   "name": "python3"
  },
  "language_info": {
   "codemirror_mode": {
    "name": "ipython",
    "version": 3
   },
   "file_extension": ".py",
   "mimetype": "text/x-python",
   "name": "python",
   "nbconvert_exporter": "python",
   "pygments_lexer": "ipython3",
   "version": "3.10.0"
  }
 },
 "nbformat": 4,
 "nbformat_minor": 5
}
