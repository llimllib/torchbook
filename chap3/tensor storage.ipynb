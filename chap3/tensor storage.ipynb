{
 "cells": [
  {
   "cell_type": "code",
   "execution_count": 1,
   "id": "7ccb9ae2-7566-498f-8f06-4a9a2d7c3d39",
   "metadata": {},
   "outputs": [],
   "source": [
    "import torch"
   ]
  },
  {
   "cell_type": "code",
   "execution_count": 6,
   "id": "8b35f113-3584-473a-96a3-e28f1a6e7885",
   "metadata": {},
   "outputs": [
    {
     "data": {
      "text/plain": [
       "(tensor([[4., 1.],\n",
       "         [5., 3.],\n",
       "         [2., 1.]]),\n",
       "  4.0\n",
       "  1.0\n",
       "  5.0\n",
       "  3.0\n",
       "  2.0\n",
       "  1.0\n",
       " [torch.storage.TypedStorage(dtype=torch.float32, device=cpu) of size 6])"
      ]
     },
     "execution_count": 6,
     "metadata": {},
     "output_type": "execute_result"
    }
   ],
   "source": [
    "points = torch.tensor([[4, 1], [5,3], [2,1.0]])\n",
    "points, points.storage()"
   ]
  },
  {
   "cell_type": "markdown",
   "id": "3f7bcc5b-5887-403a-bcf2-42e80267decf",
   "metadata": {},
   "source": [
    "points will report that its size is (3,2), but the storage is just a contiguous array.\n",
    "\n",
    "We can index into a storage:"
   ]
  },
  {
   "cell_type": "code",
   "execution_count": 7,
   "id": "5c585dbf-c2a1-470e-9c01-8d09cbba18f2",
   "metadata": {},
   "outputs": [
    {
     "data": {
      "text/plain": [
       "4.0"
      ]
     },
     "execution_count": 7,
     "metadata": {},
     "output_type": "execute_result"
    }
   ],
   "source": [
    "points.storage()[0]"
   ]
  },
  {
   "cell_type": "markdown",
   "id": "b9516759-d844-4369-8a2a-8d6ad0aaa718",
   "metadata": {},
   "source": [
    "and modifying the storage unsurprisingly modifies the tensor's view of it"
   ]
  },
  {
   "cell_type": "code",
   "execution_count": 9,
   "id": "f27623d2-608a-4fb2-8698-85e0a3d80f0b",
   "metadata": {},
   "outputs": [
    {
     "data": {
      "text/plain": [
       "tensor([[-99.,   1.],\n",
       "        [  5.,   3.],\n",
       "        [  2.,   1.]])"
      ]
     },
     "execution_count": 9,
     "metadata": {},
     "output_type": "execute_result"
    }
   ],
   "source": [
    "points.storage()[0] = -99.0\n",
    "points"
   ]
  },
  {
   "cell_type": "markdown",
   "id": "baecb8ed-b105-45b2-b13f-c8c4d4ecdd4c",
   "metadata": {},
   "source": [
    "as we've seen before, methods which end in underscore modify the underlying storage; all others return a copy"
   ]
  },
  {
   "cell_type": "code",
   "execution_count": 10,
   "id": "3650137b-dd0e-4d07-8b46-c0fa9bf109e6",
   "metadata": {},
   "outputs": [
    {
     "data": {
      "text/plain": [
       "tensor([[0., 0.],\n",
       "        [0., 0.],\n",
       "        [0., 0.]])"
      ]
     },
     "execution_count": 10,
     "metadata": {},
     "output_type": "execute_result"
    }
   ],
   "source": [
    "points.zero_()\n",
    "points"
   ]
  },
  {
   "cell_type": "markdown",
   "id": "262769f9-c445-46f6-9606-2c1643d99404",
   "metadata": {},
   "source": [
    "## Tensor Metadata\n",
    "\n",
    "tensors are defined by three pieces of data:\n",
    "- **size** is a tuple indicating how many elements across each dimension the tensor represents\n",
    "- **offset** is the index in the storage corresponding to the first element in the tensor\n",
    "- **stride** is the number of elements in the storage that need to be skipped over to obtain the next element along each dimension\n",
    "\n",
    "The second point in the tensor has offset 2 (since it's the second _row_ and needs to skip the first two values) and size is `[2]` because it's a one-dimensional tensor of size 2"
   ]
  },
  {
   "cell_type": "code",
   "execution_count": 11,
   "id": "985ebbdf-2fb7-4e25-8a7a-9df03d3a2e95",
   "metadata": {},
   "outputs": [
    {
     "data": {
      "text/plain": [
       "(2, torch.Size([2]))"
      ]
     },
     "execution_count": 11,
     "metadata": {},
     "output_type": "execute_result"
    }
   ],
   "source": [
    "points[1].storage_offset(), points[1].size()"
   ]
  },
  {
   "cell_type": "markdown",
   "id": "9463488f-8967-4e82-afea-91ec2246e1c7",
   "metadata": {},
   "source": [
    "`stride` is a tuple indicating the number of elements that must be skipped when the index is increased by 1 in each dimension"
   ]
  },
  {
   "cell_type": "code",
   "execution_count": 12,
   "id": "9241db14-99fa-4d02-842a-7538bd48cb91",
   "metadata": {},
   "outputs": [
    {
     "data": {
      "text/plain": [
       "(2, 1)"
      ]
     },
     "execution_count": 12,
     "metadata": {},
     "output_type": "execute_result"
    }
   ],
   "source": [
    "points.stride()"
   ]
  },
  {
   "cell_type": "markdown",
   "id": "ff2c7e2c-ce4b-4fdf-9239-aecdc74671e8",
   "metadata": {},
   "source": [
    "in a 2d tensor, accessing element `(i,j)` is:\n",
    "\n",
    "`storage_offset + (stride[0]*i) + (stride[1]*j)`\n",
    "\n",
    "because two tensors may share storage, modifying a value in one will cause it to be reflected in the other"
   ]
  },
  {
   "cell_type": "code",
   "execution_count": 15,
   "id": "11cf943f-f07a-4900-92b7-e8ebcdc4c5c0",
   "metadata": {},
   "outputs": [
    {
     "name": "stdout",
     "output_type": "stream",
     "text": [
      "tensor([[0.8709, 0.9848, 0.0072],\n",
      "        [0.1993, 0.4801, 0.8245],\n",
      "        [0.5707, 0.4890, 0.2560]])\n",
      "tensor([[0.8709, 0.9848, 0.0072],\n",
      "        [0.1993, 0.9999, 0.8245],\n",
      "        [0.5707, 0.4890, 0.2560]])\n"
     ]
    }
   ],
   "source": [
    "a = torch.rand(3, 3)\n",
    "print(a)\n",
    "b = a[1:, 1:]\n",
    "b[0,0] = .9999\n",
    "print(a)"
   ]
  },
  {
   "cell_type": "code",
   "execution_count": 19,
   "id": "4d5c044b-e761-4a69-b289-3beb917ffa97",
   "metadata": {},
   "outputs": [
    {
     "data": {
      "text/plain": [
       "(torch.Size([3, 4, 5]), torch.Size([5, 4, 3]))"
      ]
     },
     "execution_count": 19,
     "metadata": {},
     "output_type": "execute_result"
    }
   ],
   "source": [
    "a = torch.ones(3, 4, 5)\n",
    "a_t = a.transpose(0, 2)\n",
    "a.shape, a_t.shape"
   ]
  },
  {
   "cell_type": "code",
   "execution_count": 20,
   "id": "1fe28b8a-dd42-4600-abba-d3954effd0bc",
   "metadata": {},
   "outputs": [
    {
     "data": {
      "text/plain": [
       "(tensor([[[1., 1., 1., 1., 1.],\n",
       "          [1., 1., 1., 1., 1.],\n",
       "          [1., 1., 1., 1., 1.],\n",
       "          [1., 1., 1., 1., 1.]],\n",
       " \n",
       "         [[1., 1., 1., 1., 1.],\n",
       "          [1., 1., 1., 1., 1.],\n",
       "          [1., 1., 1., 1., 1.],\n",
       "          [1., 1., 1., 1., 1.]],\n",
       " \n",
       "         [[1., 1., 1., 1., 1.],\n",
       "          [1., 1., 1., 1., 1.],\n",
       "          [1., 1., 1., 1., 1.],\n",
       "          [1., 1., 1., 1., 1.]]]),\n",
       " tensor([[[1., 1., 1.],\n",
       "          [1., 1., 1.],\n",
       "          [1., 1., 1.],\n",
       "          [1., 1., 1.]],\n",
       " \n",
       "         [[1., 1., 1.],\n",
       "          [1., 1., 1.],\n",
       "          [1., 1., 1.],\n",
       "          [1., 1., 1.]],\n",
       " \n",
       "         [[1., 1., 1.],\n",
       "          [1., 1., 1.],\n",
       "          [1., 1., 1.],\n",
       "          [1., 1., 1.]],\n",
       " \n",
       "         [[1., 1., 1.],\n",
       "          [1., 1., 1.],\n",
       "          [1., 1., 1.],\n",
       "          [1., 1., 1.]],\n",
       " \n",
       "         [[1., 1., 1.],\n",
       "          [1., 1., 1.],\n",
       "          [1., 1., 1.],\n",
       "          [1., 1., 1.]]]))"
      ]
     },
     "execution_count": 20,
     "metadata": {},
     "output_type": "execute_result"
    }
   ],
   "source": [
    "a, a_t"
   ]
  },
  {
   "cell_type": "markdown",
   "id": "79e494e7-b6d9-490f-b9bd-5a50a6f330bd",
   "metadata": {},
   "source": [
    "A transpose of a contiguous tensor is not contiguous"
   ]
  },
  {
   "cell_type": "code",
   "execution_count": 21,
   "id": "8c0ae13c-9e0a-42ee-84f2-5042bc44cbaf",
   "metadata": {},
   "outputs": [
    {
     "data": {
      "text/plain": [
       "(True, False)"
      ]
     },
     "execution_count": 21,
     "metadata": {},
     "output_type": "execute_result"
    }
   ],
   "source": [
    "a.is_contiguous(), a_t.is_contiguous()"
   ]
  },
  {
   "cell_type": "code",
   "execution_count": 23,
   "id": "5575eee0-9c4b-4ffa-8563-9b2d7140d71f",
   "metadata": {},
   "outputs": [
    {
     "data": {
      "text/plain": [
       "(tensor([[4., 5., 2.],\n",
       "         [1., 3., 1.]]),\n",
       "  4.0\n",
       "  1.0\n",
       "  5.0\n",
       "  3.0\n",
       "  2.0\n",
       "  1.0\n",
       " [torch.storage.TypedStorage(dtype=torch.float32, device=cpu) of size 6],\n",
       " (1, 2),\n",
       " False)"
      ]
     },
     "execution_count": 23,
     "metadata": {},
     "output_type": "execute_result"
    }
   ],
   "source": [
    "p = torch.tensor([[4,1],[5,3],[2,1.0]])\n",
    "p_t = p.t()\n",
    "p_t, p_t.storage(), p_t.stride(), p_t.is_contiguous()"
   ]
  },
  {
   "cell_type": "code",
   "execution_count": 24,
   "id": "74ffd6e4-a8ff-444b-8102-81f739ea4cd4",
   "metadata": {},
   "outputs": [
    {
     "data": {
      "text/plain": [
       "(tensor([[4., 5., 2.],\n",
       "         [1., 3., 1.]]),\n",
       "  4.0\n",
       "  5.0\n",
       "  2.0\n",
       "  1.0\n",
       "  3.0\n",
       "  1.0\n",
       " [torch.storage.TypedStorage(dtype=torch.float32, device=cpu) of size 6],\n",
       " (3, 1))"
      ]
     },
     "execution_count": 24,
     "metadata": {},
     "output_type": "execute_result"
    }
   ],
   "source": [
    "p_t_c = p_t.contiguous()\n",
    "p_t_c, p_t_c.storage(), p_t_c.stride()"
   ]
  },
  {
   "cell_type": "code",
   "execution_count": null,
   "id": "94bcb7b2-be5c-44d7-9faf-74a99abd66d1",
   "metadata": {},
   "outputs": [],
   "source": []
  }
 ],
 "metadata": {
  "kernelspec": {
   "display_name": "Python 3 (ipykernel)",
   "language": "python",
   "name": "python3"
  },
  "language_info": {
   "codemirror_mode": {
    "name": "ipython",
    "version": 3
   },
   "file_extension": ".py",
   "mimetype": "text/x-python",
   "name": "python",
   "nbconvert_exporter": "python",
   "pygments_lexer": "ipython3",
   "version": "3.10.0"
  }
 },
 "nbformat": 4,
 "nbformat_minor": 5
}
