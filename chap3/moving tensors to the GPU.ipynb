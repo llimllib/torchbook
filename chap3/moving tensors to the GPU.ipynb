{
 "cells": [
  {
   "cell_type": "code",
   "execution_count": 1,
   "id": "361da9c4-cf91-45b5-aca7-98f7824dedb3",
   "metadata": {},
   "outputs": [],
   "source": [
    "import torch"
   ]
  },
  {
   "cell_type": "code",
   "execution_count": 6,
   "id": "e7896356-b171-4f55-95c9-31da28adb9ec",
   "metadata": {},
   "outputs": [],
   "source": [
    "# 'cuda' is the device the book uses, and the one available for nvidia gpus\n",
    "# 'mps' is for Metal Pixel Shader (I think) and is the one available on my m1\n",
    "#       it does not have all operations \n",
    "points = torch.tensor([[4,1],[5,3],[2,1.0]])\n",
    "points_gpu = torch.tensor([[4,1],[5,3],[2,1.0]], device='mps')"
   ]
  },
  {
   "cell_type": "markdown",
   "id": "20684174-3b2a-40ba-9a51-efab989082e5",
   "metadata": {},
   "source": [
    "we can use `to` with the `device` kwarg to copy a CPU tensor to the GPU"
   ]
  },
  {
   "cell_type": "code",
   "execution_count": 7,
   "id": "5621c1fa-e663-4ffe-a06e-d01a769eb1ff",
   "metadata": {},
   "outputs": [],
   "source": [
    "points_pgu = points.to(device='mps')"
   ]
  },
  {
   "cell_type": "markdown",
   "id": "f9cfc9b7-5553-4906-85b8-c5a2d3419637",
   "metadata": {},
   "source": [
    "if we have more than one GPU, use `:<n>` to select the appropriate GPU"
   ]
  },
  {
   "cell_type": "code",
   "execution_count": 8,
   "id": "e1509e14-92c9-44db-8385-a48fce030675",
   "metadata": {},
   "outputs": [],
   "source": [
    "points_gpu = torch.tensor([[4,1],[5,3],[2,1.0]], device='mps:0')"
   ]
  },
  {
   "cell_type": "markdown",
   "id": "c8746ab3-176e-465f-8590-eb024bec2c40",
   "metadata": {},
   "source": [
    "we can carry out operations on either the CPU or GPU"
   ]
  },
  {
   "cell_type": "code",
   "execution_count": 9,
   "id": "e4e561b4-3ffe-478a-b641-b50587389957",
   "metadata": {},
   "outputs": [],
   "source": [
    "points = 2 * points\n",
    "points_gpu = 2 * points.to(device='mps')"
   ]
  },
  {
   "cell_type": "markdown",
   "id": "17854f37-3c28-4414-b815-cab090aca9df",
   "metadata": {},
   "source": [
    "in the second case, the tensor remains on the GPU:\n",
    "- `points` is copied to the GPU\n",
    "- a new tensor is allocated on the GPU to store the multiplication\n",
    "- a handle to that tensor is returned\n",
    "\n",
    "we can use the `cpu` device to move computation back to the CPU"
   ]
  },
  {
   "cell_type": "code",
   "execution_count": 10,
   "id": "ead888de-9e21-4874-9dc3-dffbea3cbbce",
   "metadata": {},
   "outputs": [],
   "source": [
    "points_cpu = points_gpu.to(device='cpu')"
   ]
  },
  {
   "cell_type": "markdown",
   "id": "70b7a10a-ab9b-4825-9df7-75179c8a6164",
   "metadata": {},
   "source": [
    "There is a `cuda` method that you can use instead of `to(device='cudea')`, but no similar `mps` method"
   ]
  },
  {
   "cell_type": "code",
   "execution_count": 11,
   "id": "b647c6c6-c523-4154-b5e5-4184a8089c4b",
   "metadata": {},
   "outputs": [
    {
     "ename": "AttributeError",
     "evalue": "'Tensor' object has no attribute 'mps'",
     "output_type": "error",
     "traceback": [
      "\u001b[0;31m---------------------------------------------------------------------------\u001b[0m",
      "\u001b[0;31mAttributeError\u001b[0m                            Traceback (most recent call last)",
      "\u001b[0;32m/var/folders/cj/3fpctnd52vv37y9gpdgg7c200000gn/T/ipykernel_86323/1245474803.py\u001b[0m in \u001b[0;36m<module>\u001b[0;34m\u001b[0m\n\u001b[0;32m----> 1\u001b[0;31m \u001b[0mpoints\u001b[0m\u001b[0;34m.\u001b[0m\u001b[0mmps\u001b[0m\u001b[0;34m(\u001b[0m\u001b[0;34m)\u001b[0m\u001b[0;34m\u001b[0m\u001b[0;34m\u001b[0m\u001b[0m\n\u001b[0m",
      "\u001b[0;31mAttributeError\u001b[0m: 'Tensor' object has no attribute 'mps'"
     ]
    }
   ],
   "source": [
    "points.mps()"
   ]
  },
  {
   "cell_type": "code",
   "execution_count": 12,
   "id": "2f8d2da3-5397-4acc-9a7a-9ff2e44f0c38",
   "metadata": {},
   "outputs": [
    {
     "ename": "AssertionError",
     "evalue": "Torch not compiled with CUDA enabled",
     "output_type": "error",
     "traceback": [
      "\u001b[0;31m---------------------------------------------------------------------------\u001b[0m",
      "\u001b[0;31mAssertionError\u001b[0m                            Traceback (most recent call last)",
      "\u001b[0;32m/var/folders/cj/3fpctnd52vv37y9gpdgg7c200000gn/T/ipykernel_86323/2039468751.py\u001b[0m in \u001b[0;36m<module>\u001b[0;34m\u001b[0m\n\u001b[0;32m----> 1\u001b[0;31m \u001b[0mpoints\u001b[0m\u001b[0;34m.\u001b[0m\u001b[0mcuda\u001b[0m\u001b[0;34m(\u001b[0m\u001b[0;34m)\u001b[0m\u001b[0;34m\u001b[0m\u001b[0;34m\u001b[0m\u001b[0m\n\u001b[0m",
      "\u001b[0;32m~/.asdf/installs/python/3.10.0/lib/python3.10/site-packages/torch/cuda/__init__.py\u001b[0m in \u001b[0;36m_lazy_init\u001b[0;34m()\u001b[0m\n\u001b[1;32m    219\u001b[0m                 \"multiprocessing, you must use the 'spawn' start method\")\n\u001b[1;32m    220\u001b[0m         \u001b[0;32mif\u001b[0m \u001b[0;32mnot\u001b[0m \u001b[0mhasattr\u001b[0m\u001b[0;34m(\u001b[0m\u001b[0mtorch\u001b[0m\u001b[0;34m.\u001b[0m\u001b[0m_C\u001b[0m\u001b[0;34m,\u001b[0m \u001b[0;34m'_cuda_getDeviceCount'\u001b[0m\u001b[0;34m)\u001b[0m\u001b[0;34m:\u001b[0m\u001b[0;34m\u001b[0m\u001b[0;34m\u001b[0m\u001b[0m\n\u001b[0;32m--> 221\u001b[0;31m             \u001b[0;32mraise\u001b[0m \u001b[0mAssertionError\u001b[0m\u001b[0;34m(\u001b[0m\u001b[0;34m\"Torch not compiled with CUDA enabled\"\u001b[0m\u001b[0;34m)\u001b[0m\u001b[0;34m\u001b[0m\u001b[0;34m\u001b[0m\u001b[0m\n\u001b[0m\u001b[1;32m    222\u001b[0m         \u001b[0;32mif\u001b[0m \u001b[0m_cudart\u001b[0m \u001b[0;32mis\u001b[0m \u001b[0;32mNone\u001b[0m\u001b[0;34m:\u001b[0m\u001b[0;34m\u001b[0m\u001b[0;34m\u001b[0m\u001b[0m\n\u001b[1;32m    223\u001b[0m             raise AssertionError(\n",
      "\u001b[0;31mAssertionError\u001b[0m: Torch not compiled with CUDA enabled"
     ]
    }
   ],
   "source": [
    "points.cuda()"
   ]
  },
  {
   "cell_type": "code",
   "execution_count": null,
   "id": "9ed2a9bf-04ab-4296-aac6-d43bc36f9833",
   "metadata": {},
   "outputs": [],
   "source": []
  }
 ],
 "metadata": {
  "kernelspec": {
   "display_name": "Python 3 (ipykernel)",
   "language": "python",
   "name": "python3"
  },
  "language_info": {
   "codemirror_mode": {
    "name": "ipython",
    "version": 3
   },
   "file_extension": ".py",
   "mimetype": "text/x-python",
   "name": "python",
   "nbconvert_exporter": "python",
   "pygments_lexer": "ipython3",
   "version": "3.10.0"
  }
 },
 "nbformat": 4,
 "nbformat_minor": 5
}
