{
 "cells": [
  {
   "cell_type": "code",
   "execution_count": 1,
   "id": "1c01ce23-ee30-416e-a41c-a873e5c0c46c",
   "metadata": {},
   "outputs": [],
   "source": [
    "import torch"
   ]
  },
  {
   "cell_type": "markdown",
   "id": "ce51ea7f-d5d9-482e-b316-1d7ddb269ff1",
   "metadata": {},
   "source": [
    "Create a tensor a from list(range(9)). Predict and then check the size, offset, and stride. \n",
    "- Create a new tensor using `b = a.view(3, 3)`. What does view do? Check that a and b share the same storage. \n",
    "- Create a tensor `c = b[1:,1:]`. Predict and then check the size, offset, and stride."
   ]
  },
  {
   "cell_type": "code",
   "execution_count": 13,
   "id": "c86d9871-6e7d-4e7c-ac66-8e478bd0699b",
   "metadata": {},
   "outputs": [
    {
     "data": {
      "text/plain": [
       "tensor([0, 1, 2, 3, 4, 5, 6, 7, 8])"
      ]
     },
     "execution_count": 13,
     "metadata": {},
     "output_type": "execute_result"
    }
   ],
   "source": [
    "a = torch.tensor(list(range(9)))\n",
    "a"
   ]
  },
  {
   "cell_type": "markdown",
   "id": "63c83ff4-f6ab-4ce8-89ce-177f7e8e012c",
   "metadata": {},
   "source": [
    "size: [9], offset: 0, stride: (1,)"
   ]
  },
  {
   "cell_type": "code",
   "execution_count": 14,
   "id": "15b0fd87-2542-484b-a4a5-0983f86b4e54",
   "metadata": {},
   "outputs": [
    {
     "data": {
      "text/plain": [
       "(torch.Size([9]), 0, (1,))"
      ]
     },
     "execution_count": 14,
     "metadata": {},
     "output_type": "execute_result"
    }
   ],
   "source": [
    "a.size(), a.storage_offset(), a.stride()"
   ]
  },
  {
   "cell_type": "code",
   "execution_count": 15,
   "id": "6009838e-ee94-4c11-a032-29ecd6b1eb27",
   "metadata": {},
   "outputs": [
    {
     "data": {
      "text/plain": [
       "tensor([[0, 1, 2],\n",
       "        [3, 4, 5],\n",
       "        [6, 7, 8]])"
      ]
     },
     "execution_count": 15,
     "metadata": {},
     "output_type": "execute_result"
    }
   ],
   "source": [
    "b = a.view(3,3)\n",
    "b"
   ]
  },
  {
   "cell_type": "markdown",
   "id": "6686ed78-7b73-458b-a3c0-eb928cce597a",
   "metadata": {},
   "source": [
    "view gives us a view on the same underlying storage."
   ]
  },
  {
   "cell_type": "code",
   "execution_count": 16,
   "id": "7a9b1b70-6325-4465-9f78-dbc5154e46c5",
   "metadata": {},
   "outputs": [
    {
     "data": {
      "text/plain": [
       "True"
      ]
     },
     "execution_count": 16,
     "metadata": {},
     "output_type": "execute_result"
    }
   ],
   "source": [
    "id(b.storage()) == id(a.storage())"
   ]
  },
  {
   "cell_type": "code",
   "execution_count": 11,
   "id": "d85e6040-e814-4b7c-b25e-f7197152ed85",
   "metadata": {},
   "outputs": [],
   "source": [
    "c = b[1:,1:]"
   ]
  },
  {
   "cell_type": "markdown",
   "id": "498e3858-a740-4ebb-8c85-b7323b0bae12",
   "metadata": {},
   "source": [
    "size: [2,2], offset:1, stride:(2, 1)"
   ]
  },
  {
   "cell_type": "code",
   "execution_count": 12,
   "id": "ca2513fb-8836-4bd5-9071-f0992a1b5a19",
   "metadata": {},
   "outputs": [
    {
     "data": {
      "text/plain": [
       "(torch.Size([9]), 0, (1,))"
      ]
     },
     "execution_count": 12,
     "metadata": {},
     "output_type": "execute_result"
    }
   ],
   "source": [
    "t.size(), t.storage_offset(), t.stride()"
   ]
  },
  {
   "cell_type": "markdown",
   "id": "6a64d585-dc1b-4eca-8146-7e53515e0b8b",
   "metadata": {},
   "source": [
    "doh! pretty wrong there.\n",
    "\n",
    "2. Pick a mathematical operation like cosine or square root. Can you find a corresponding function in the torch library?\n",
    "  - Apply the function element-wise to a. Why does it return an error?\n",
    "  - What operation is required to make the function work?\n",
    "  - Is there a version of your function that operates in place?"
   ]
  },
  {
   "cell_type": "code",
   "execution_count": 17,
   "id": "3d249e12-aa4d-464b-9c2e-edfbde2ebfc2",
   "metadata": {},
   "outputs": [
    {
     "data": {
      "text/plain": [
       "tensor([ 1.0000,  0.5403, -0.4161, -0.9900, -0.6536,  0.2837,  0.9602,  0.7539,\n",
       "        -0.1455])"
      ]
     },
     "execution_count": 17,
     "metadata": {},
     "output_type": "execute_result"
    }
   ],
   "source": [
    "torch.cos(a)"
   ]
  },
  {
   "cell_type": "code",
   "execution_count": 22,
   "id": "98be65f4-774f-4f6c-a1bf-2bf4a4b16bf8",
   "metadata": {},
   "outputs": [
    {
     "ename": "RuntimeError",
     "evalue": "result type Float can't be cast to the desired output type Long",
     "output_type": "error",
     "traceback": [
      "\u001b[0;31m---------------------------------------------------------------------------\u001b[0m",
      "\u001b[0;31mRuntimeError\u001b[0m                              Traceback (most recent call last)",
      "\u001b[0;32m/var/folders/cj/3fpctnd52vv37y9gpdgg7c200000gn/T/ipykernel_44526/3941090486.py\u001b[0m in \u001b[0;36m<module>\u001b[0;34m\u001b[0m\n\u001b[1;32m      1\u001b[0m \u001b[0;31m# this is the in-place operation, which fails because the tensor is of the wrong type for the output of cos\u001b[0m\u001b[0;34m\u001b[0m\u001b[0;34m\u001b[0m\u001b[0m\n\u001b[0;32m----> 2\u001b[0;31m \u001b[0mtorch\u001b[0m\u001b[0;34m.\u001b[0m\u001b[0mcos_\u001b[0m\u001b[0;34m(\u001b[0m\u001b[0ma\u001b[0m\u001b[0;34m)\u001b[0m\u001b[0;34m\u001b[0m\u001b[0;34m\u001b[0m\u001b[0m\n\u001b[0m",
      "\u001b[0;31mRuntimeError\u001b[0m: result type Float can't be cast to the desired output type Long"
     ]
    }
   ],
   "source": [
    "# this is the in-place operation, which fails because the tensor is of the wrong type for the output of cos\n",
    "torch.cos_(a)"
   ]
  },
  {
   "cell_type": "code",
   "execution_count": 21,
   "id": "87619299-b740-45bc-83e2-48d7e9915562",
   "metadata": {},
   "outputs": [
    {
     "data": {
      "text/plain": [
       "tensor([ 1.0000,  0.5403, -0.4161, -0.9900, -0.6536,  0.2837,  0.9602,  0.7539,\n",
       "        -0.1455])"
      ]
     },
     "execution_count": 21,
     "metadata": {},
     "output_type": "execute_result"
    }
   ],
   "source": [
    "# so we convert it to float32. I was surprised that float16 didn't work!\n",
    "torch.cos(a.to(dtype=torch.float32))"
   ]
  },
  {
   "cell_type": "code",
   "execution_count": null,
   "id": "386a7358-97b9-4c0c-825e-a48bea945be5",
   "metadata": {},
   "outputs": [],
   "source": []
  }
 ],
 "metadata": {
  "kernelspec": {
   "display_name": "Python 3 (ipykernel)",
   "language": "python",
   "name": "python3"
  },
  "language_info": {
   "codemirror_mode": {
    "name": "ipython",
    "version": 3
   },
   "file_extension": ".py",
   "mimetype": "text/x-python",
   "name": "python",
   "nbconvert_exporter": "python",
   "pygments_lexer": "ipython3",
   "version": "3.10.0"
  }
 },
 "nbformat": 4,
 "nbformat_minor": 5
}
